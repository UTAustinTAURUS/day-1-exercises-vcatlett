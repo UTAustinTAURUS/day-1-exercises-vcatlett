{
 "cells": [
  {
   "cell_type": "markdown",
   "metadata": {},
   "source": [
    "## Exercises\n",
    "\n",
    "This will be a notebook for you to work through the exercises during the workshop. Feel free to work on these at whatever pace you feel works for you, but I encourage you to work together! Edit the title of this notebook with your name because I will ask you to upload your final notebook to our shared github repository at the end of this workshop.\n",
    "\n",
    "Feel free to google the documentation for numpy, matplotlib, etc.\n",
    "\n",
    "Don't forget to start by importing any libraries you need."
   ]
  },
  {
   "cell_type": "code",
   "execution_count": 2,
   "metadata": {},
   "outputs": [],
   "source": [
    "import numpy as np"
   ]
  },
  {
   "cell_type": "markdown",
   "metadata": {},
   "source": [
    "### Day 1\n",
    "\n",
    "#### Exercise 1\n",
    "\n",
    "   A. Create an array with 10 evenly spaced values in logspace ranging from 0.1 to 10,000.\n",
    "\n",
    "   B. Print the following values: The first value in the array, the final value in the array, and the range of 5th-8th values.\n",
    "\n",
    "   C. Append the numbers 10,001 and 10,002 (as floats) to the array. Make sure you define this!\n",
    "\n",
    "   D. Divide your new array by 2.\n",
    "\n",
    "   E. Reshape your array to be 3 x 4. \n",
    "\n",
    "   F. Multiply your array by itself.\n",
    "    \n",
    "   G.  Print out the number of dimensions and the maximum value."
   ]
  },
  {
   "cell_type": "code",
   "execution_count": 3,
   "metadata": {},
   "outputs": [
    {
     "name": "stdout",
     "output_type": "stream",
     "text": [
      "[1.00000000e-01 3.59381366e-01 1.29154967e+00 4.64158883e+00\n",
      " 1.66810054e+01 5.99484250e+01 2.15443469e+02 7.74263683e+02\n",
      " 2.78255940e+03 1.00000000e+04]\n"
     ]
    }
   ],
   "source": [
    "# EXERCISE A\n",
    "log_array = np.array(np.logspace(-1,4,10))\n",
    "print(log_array)"
   ]
  },
  {
   "cell_type": "code",
   "execution_count": 4,
   "metadata": {},
   "outputs": [
    {
     "name": "stdout",
     "output_type": "stream",
     "text": [
      "[ 16.68100537  59.94842503 215.443469   774.26368268]\n"
     ]
    }
   ],
   "source": [
    "# EXERCISE B\n",
    "print(log_array[4:8])\n",
    "#This is inclusive of the 8th element (index 7)"
   ]
  },
  {
   "cell_type": "code",
   "execution_count": 5,
   "metadata": {},
   "outputs": [
    {
     "name": "stdout",
     "output_type": "stream",
     "text": [
      "[1.00000000e-01 3.59381366e-01 1.29154967e+00 4.64158883e+00\n",
      " 1.66810054e+01 5.99484250e+01 2.15443469e+02 7.74263683e+02\n",
      " 2.78255940e+03 1.00000000e+04 1.00010000e+04 1.00020000e+04]\n"
     ]
    }
   ],
   "source": [
    "# EXERCISE C\n",
    "new_log_array = np.append(log_array,[10001.,10002.])\n",
    "print(new_log_array)"
   ]
  },
  {
   "cell_type": "code",
   "execution_count": 6,
   "metadata": {},
   "outputs": [
    {
     "name": "stdout",
     "output_type": "stream",
     "text": [
      "[5.00000000e-02 1.79690683e-01 6.45774833e-01 2.32079442e+00\n",
      " 8.34050269e+00 2.99742125e+01 1.07721735e+02 3.87131841e+02\n",
      " 1.39127970e+03 5.00000000e+03 5.00050000e+03 5.00100000e+03]\n"
     ]
    }
   ],
   "source": [
    "# EXERCISE D\n",
    "div2_array = new_log_array/2\n",
    "print(div2_array)"
   ]
  },
  {
   "cell_type": "code",
   "execution_count": 7,
   "metadata": {},
   "outputs": [
    {
     "name": "stdout",
     "output_type": "stream",
     "text": [
      "[[5.00000000e-02 1.79690683e-01 6.45774833e-01 2.32079442e+00]\n",
      " [8.34050269e+00 2.99742125e+01 1.07721735e+02 3.87131841e+02]\n",
      " [1.39127970e+03 5.00000000e+03 5.00050000e+03 5.00100000e+03]]\n"
     ]
    }
   ],
   "source": [
    "# EXERCISE E\n",
    "inv_array = np.reshape(div2_array,(3,4))\n",
    "print(inv_array)"
   ]
  },
  {
   "cell_type": "code",
   "execution_count": 13,
   "metadata": {},
   "outputs": [
    {
     "name": "stdout",
     "output_type": "stream",
     "text": [
      "[[5.83790060e+00 9.73820513e+02 1.58035073e+04]\n",
      " [9.73820513e+02 1.62443052e+05 2.63618391e+06]\n",
      " [1.58035073e+04 2.63618391e+06 7.69506605e+07]]\n"
     ]
    }
   ],
   "source": [
    "# EXERCISE F\n",
    "mult_array = np.dot(inv_array, np.transpose(inv_array))\n",
    "print(mult_array)"
   ]
  },
  {
   "cell_type": "code",
   "execution_count": 14,
   "metadata": {},
   "outputs": [
    {
     "name": "stdout",
     "output_type": "stream",
     "text": [
      "2 dimensions\n",
      "Max = 76950660.45670283\n"
     ]
    }
   ],
   "source": [
    "# EXERCISE G\n",
    "array_dim = np.ndim(mult_array)\n",
    "print(str(array_dim)+' dimensions')\n",
    "print('Max = '+str(np.max(mult_array)))"
   ]
  },
  {
   "cell_type": "code",
   "execution_count": null,
   "metadata": {},
   "outputs": [],
   "source": []
  },
  {
   "cell_type": "code",
   "execution_count": null,
   "metadata": {},
   "outputs": [],
   "source": []
  }
 ],
 "metadata": {
  "kernelspec": {
   "display_name": "Python 2",
   "language": "python",
   "name": "python2"
  },
  "language_info": {
   "codemirror_mode": {
    "name": "ipython",
    "version": 2
   },
   "file_extension": ".py",
   "mimetype": "text/x-python",
   "name": "python",
   "nbconvert_exporter": "python",
   "pygments_lexer": "ipython2",
   "version": "2.7.15"
  }
 },
 "nbformat": 4,
 "nbformat_minor": 2
}
